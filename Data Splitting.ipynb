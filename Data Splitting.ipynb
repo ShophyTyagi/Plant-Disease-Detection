{
 "cells": [
  {
   "cell_type": "markdown",
   "metadata": {},
   "source": [
    "<h2>Splitting the data</h2>\n",
    "Before we get into the training of the model, we need to organise our data into the train, test and validation set. I am taking the ratios as 6:2:2. The below code block can be skipped if your data is already prganised"
   ]
  },
  {
   "cell_type": "code",
   "execution_count": 1,
   "metadata": {},
   "outputs": [],
   "source": [
    "import json\n",
    "import os\n",
    "import shutil\n",
    "import random"
   ]
  },
  {
   "cell_type": "code",
   "execution_count": 2,
   "metadata": {},
   "outputs": [],
   "source": [
    "root = 'dataset/'"
   ]
  },
  {
   "cell_type": "code",
   "execution_count": 3,
   "metadata": {},
   "outputs": [
    {
     "data": {
      "text/plain": [
       "{'Apple-Scab': 'Apple-Scab',\n",
       " 'Black-Rot': 'Black-Rot',\n",
       " 'Healthy': 'Healthy',\n",
       " 'Cedar-Apple-Rust': 'Cedar-Apple-Rust'}"
      ]
     },
     "execution_count": 3,
     "metadata": {},
     "output_type": "execute_result"
    }
   ],
   "source": [
    "#Creating the labels\n",
    "files = os.listdir(root)\n",
    "categories = {}\n",
    "for disease in files:\n",
    "    categories.update({disease : disease})\n",
    "categories"
   ]
  },
  {
   "cell_type": "code",
   "execution_count": 5,
   "metadata": {},
   "outputs": [],
   "source": [
    "with open(\"label.json\", \"w\") as outfile:  \n",
    "    json.dump(categories, outfile) "
   ]
  },
  {
   "cell_type": "code",
   "execution_count": 6,
   "metadata": {},
   "outputs": [],
   "source": [
    "# Splitting the data into train, test and validation set\n",
    "split_root = 'data-split/'\n",
    "split_names = ['train','test','valid']\n",
    "for sp_name in split_names:\n",
    "    directory = split_root + sp_name + '/'\n",
    "    if not os.path.exists(directory):\n",
    "        os.makedirs(directory)\n",
    "    # make category folders\n",
    "    for category in categories.keys():\n",
    "        dir_cat = directory + category + '/'\n",
    "        if not os.path.exists(dir_cat):\n",
    "            os.makedirs(dir_cat)"
   ]
  },
  {
   "cell_type": "code",
   "execution_count": 7,
   "metadata": {},
   "outputs": [],
   "source": [
    "for category in categories.keys():\n",
    "    count = 0\n",
    "    data_directory = root + category + '/'\n",
    "    directory_train = split_root + 'train/' + category + '/'\n",
    "    directory_valid = split_root + 'test/' + category + '/'\n",
    "    directory_test = split_root + 'valid/' + category + '/'\n",
    "    \n",
    "    # sort files into test and valid folders\n",
    "    filenames = os.listdir(data_directory)\n",
    "    filenames.sort()\n",
    "    if '.DS_Store' in filenames:\n",
    "        filenames.remove('.DS_Store')\n",
    "    random.shuffle(filenames)\n",
    "    split_1 = int(0.8 * len(filenames))\n",
    "    split_2 = int(0.9 * len(filenames))\n",
    "    train_filenames = filenames[:split_1]\n",
    "    valid_filenames = filenames[split_1:split_2]\n",
    "    test_filenames = filenames[split_2:]\n",
    "\n",
    "    for image_file in filenames:\n",
    "        if image_file in valid_filenames:\n",
    "            shutil.copy(data_directory + image_file, directory_valid + image_file)\n",
    "            cur_file = directory_valid + image_file\n",
    "            new_file = directory_valid + category + str(count) + '.jpg'\n",
    "            count += 1\n",
    "            os.rename(cur_file, new_file)\n",
    "        elif image_file in test_filenames:\n",
    "            shutil.copy(data_directory + image_file, directory_test + image_file)\n",
    "            cur_file = directory_test + image_file\n",
    "            new_file = directory_test + category + str(count) + '.jpg'\n",
    "            count += 1\n",
    "            os.rename(cur_file, new_file)\n",
    "        elif image_file in train_filenames:\n",
    "            shutil.copy(data_directory + image_file, directory_train + image_file)\n",
    "            cur_file = directory_train + image_file\n",
    "            new_file = directory_train + category + str(count) + '.jpg'\n",
    "            count += 1\n",
    "            os.rename(cur_file, new_file)"
   ]
  },
  {
   "cell_type": "code",
   "execution_count": null,
   "metadata": {},
   "outputs": [],
   "source": []
  }
 ],
 "metadata": {
  "kernelspec": {
   "display_name": "Python 3",
   "language": "python",
   "name": "python3"
  },
  "language_info": {
   "codemirror_mode": {
    "name": "ipython",
    "version": 3
   },
   "file_extension": ".py",
   "mimetype": "text/x-python",
   "name": "python",
   "nbconvert_exporter": "python",
   "pygments_lexer": "ipython3",
   "version": "3.8.3"
  }
 },
 "nbformat": 4,
 "nbformat_minor": 4
}
