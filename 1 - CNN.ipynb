{
 "cells": [
  {
   "cell_type": "markdown",
   "metadata": {},
   "source": [
    "# Plant Disease Classifier using Convolutional Neural Netwroks \n",
    "CNN architecture follows the architecture of AlexNet.\n",
    "\n",
    "* Convolution Layers - 5\n",
    "* Max Pooling Layers - 3\n",
    "* Activation Function - ReLu"
   ]
  },
  {
   "cell_type": "code",
   "execution_count": 1,
   "metadata": {},
   "outputs": [],
   "source": [
    "from keras.models import Sequential\n",
    "from keras.layers import Convolution2D, MaxPooling2D, Flatten, Dense, Dropout\n",
    "from keras.layers.normalization import BatchNormalization\n",
    "from keras import optimizers\n",
    "from keras.preprocessing.image import ImageDataGenerator\n",
    "from keras.callbacks import ModelCheckpoint\n",
    "from keras.models import load_model\n",
    "from sklearn.metrics import confusion_matrix\n",
    "from sklearn.metrics import accuracy_score "
   ]
  },
  {
   "cell_type": "markdown",
   "metadata": {},
   "source": [
    "### Data Preprocessing\n",
    "We wil be using ImageDataGenerator which will generate batches of tensor image data with real-time data augmentation.\n",
    "* Batch Size - 32"
   ]
  },
  {
   "cell_type": "code",
   "execution_count": 2,
   "metadata": {},
   "outputs": [],
   "source": [
    "# ImageDataGenerator for training dataset\n",
    "train_gen = ImageDataGenerator(rescale=1./255,\n",
    "                                   shear_range=0.2,\n",
    "                                   zoom_range=0.2,\n",
    "                                   width_shift_range=0.2,\n",
    "                                   height_shift_range=0.2,\n",
    "                                   rotation_range=40,\n",
    "                                   horizontal_flip=True,\n",
    "                                   fill_mode='nearest')"
   ]
  },
  {
   "cell_type": "code",
   "execution_count": 3,
   "metadata": {},
   "outputs": [],
   "source": [
    "# ImageDataGenerator for validation dataset\n",
    "valid_gen = ImageDataGenerator(rescale=1./255)"
   ]
  },
  {
   "cell_type": "code",
   "execution_count": 4,
   "metadata": {},
   "outputs": [],
   "source": [
    "# ImageDataGenerator for test dataset\n",
    "test_gen = ImageDataGenerator(rescale=1./255)"
   ]
  },
  {
   "cell_type": "code",
   "execution_count": 5,
   "metadata": {},
   "outputs": [],
   "source": [
    "batch_size = 32\n",
    "train_data_dir = \"data-split/train\"\n",
    "valid_data_dir = \"data-split/valid\"\n",
    "test_data_dir = \"data-split/test\""
   ]
  },
  {
   "cell_type": "code",
   "execution_count": 6,
   "metadata": {},
   "outputs": [
    {
     "name": "stdout",
     "output_type": "stream",
     "text": [
      "Found 2536 images belonging to 4 classes.\n",
      "Found 319 images belonging to 4 classes.\n",
      "Found 316 images belonging to 4 classes.\n",
      "{'Apple-Scab': 0, 'Black-Rot': 1, 'Cedar-Apple-Rust': 2, 'Healthy': 3}\n"
     ]
    }
   ],
   "source": [
    "# Getting the data and assiging labels for categories\n",
    "training_set = train_gen.flow_from_directory(train_data_dir,\n",
    "                                                 target_size=(224, 224),\n",
    "                                                 batch_size=batch_size,\n",
    "                                                 class_mode='categorical')\n",
    "\n",
    "valid_set = valid_gen.flow_from_directory(valid_data_dir,\n",
    "                                            target_size=(224, 224),\n",
    "                                            batch_size=batch_size,\n",
    "                                            class_mode='categorical')\n",
    "\n",
    "test_set = test_gen.flow_from_directory(test_data_dir,\n",
    "                                            target_size=(224, 224),\n",
    "                                            batch_size=batch_size,\n",
    "                                            class_mode='categorical')\n",
    "\n",
    "print(training_set.class_indices)"
   ]
  },
  {
   "cell_type": "markdown",
   "metadata": {},
   "source": [
    "### Building the Model\n",
    "\n",
    "[Conv -> Pool] -> [Conv -> Pool] -> [Conv] -> [Conv] -> [Conv -> Pool] -> Flatten -> Full Connection"
   ]
  },
  {
   "cell_type": "code",
   "execution_count": 7,
   "metadata": {},
   "outputs": [],
   "source": [
    "# Initializing the model\n",
    "model = Sequential()"
   ]
  },
  {
   "cell_type": "code",
   "execution_count": 8,
   "metadata": {},
   "outputs": [],
   "source": [
    "# Convolution Layer \n",
    "model.add(Convolution2D(96, 11, strides = (4, 4), padding = 'valid', input_shape=(224, 224, 3), activation = 'relu'))\n",
    "\n",
    "# Max Pooling Layer \n",
    "model.add(MaxPooling2D(pool_size = (2, 2), strides = (2, 2), padding = 'valid'))\n",
    "\n",
    "# Batch Normalization \n",
    "model.add(BatchNormalization())"
   ]
  },
  {
   "cell_type": "code",
   "execution_count": 9,
   "metadata": {},
   "outputs": [],
   "source": [
    "# Convolution Layer \n",
    "model.add(Convolution2D(256, 11, strides = (1, 1), padding='valid', activation = 'relu'))\n",
    "\n",
    "# Max Pooling Layer \n",
    "model.add(MaxPooling2D(pool_size = (2, 2), strides = (2, 2), padding='valid'))\n",
    "\n",
    "# Batch Normalization\n",
    "model.add(BatchNormalization())"
   ]
  },
  {
   "cell_type": "code",
   "execution_count": 10,
   "metadata": {},
   "outputs": [],
   "source": [
    "# Convolution Layer \n",
    "model.add(Convolution2D(384, 3, strides = (1, 1), padding='valid', activation = 'relu'))\n",
    "\n",
    "# Batch Normalization\n",
    "model.add(BatchNormalization())"
   ]
  },
  {
   "cell_type": "code",
   "execution_count": 11,
   "metadata": {},
   "outputs": [],
   "source": [
    "# Convolution Layer \n",
    "model.add(Convolution2D(384, 3, strides = (1, 1), padding='valid', activation = 'relu'))\n",
    "\n",
    "# Batch Normalization\n",
    "model.add(BatchNormalization())"
   ]
  },
  {
   "cell_type": "code",
   "execution_count": 12,
   "metadata": {},
   "outputs": [],
   "source": [
    "# Convolution Layer \n",
    "model.add(Convolution2D(256, 3, strides=(1,1), padding='valid', activation = 'relu'))\n",
    "\n",
    "# Max Pooling Layer \n",
    "model.add(MaxPooling2D(pool_size = (2, 2), strides = (2, 2), padding = 'valid'))\n",
    "\n",
    "# Batch Normalization\n",
    "model.add(BatchNormalization())"
   ]
  },
  {
   "cell_type": "code",
   "execution_count": 13,
   "metadata": {},
   "outputs": [],
   "source": [
    "# Flattening Step\n",
    "model.add(Flatten())"
   ]
  },
  {
   "cell_type": "code",
   "execution_count": 14,
   "metadata": {},
   "outputs": [],
   "source": [
    "# Full Connection Step\n",
    "model.add(Dense(units = 4096, activation = 'relu'))\n",
    "model.add(Dropout(0.4))\n",
    "model.add(BatchNormalization())\n",
    "model.add(Dense(units = 4096, activation = 'relu'))\n",
    "model.add(Dropout(0.4))\n",
    "model.add(BatchNormalization())\n",
    "model.add(Dense(units = 1000, activation = 'relu'))\n",
    "model.add(Dropout(0.2))\n",
    "model.add(BatchNormalization())\n",
    "model.add(Dense(units = 4, activation = 'softmax'))"
   ]
  },
  {
   "cell_type": "code",
   "execution_count": 15,
   "metadata": {},
   "outputs": [
    {
     "name": "stdout",
     "output_type": "stream",
     "text": [
      "Model: \"sequential\"\n",
      "_________________________________________________________________\n",
      "Layer (type)                 Output Shape              Param #   \n",
      "=================================================================\n",
      "conv2d (Conv2D)              (None, 54, 54, 96)        34944     \n",
      "_________________________________________________________________\n",
      "max_pooling2d (MaxPooling2D) (None, 27, 27, 96)        0         \n",
      "_________________________________________________________________\n",
      "batch_normalization (BatchNo (None, 27, 27, 96)        384       \n",
      "_________________________________________________________________\n",
      "conv2d_1 (Conv2D)            (None, 17, 17, 256)       2973952   \n",
      "_________________________________________________________________\n",
      "max_pooling2d_1 (MaxPooling2 (None, 8, 8, 256)         0         \n",
      "_________________________________________________________________\n",
      "batch_normalization_1 (Batch (None, 8, 8, 256)         1024      \n",
      "_________________________________________________________________\n",
      "conv2d_2 (Conv2D)            (None, 6, 6, 384)         885120    \n",
      "_________________________________________________________________\n",
      "batch_normalization_2 (Batch (None, 6, 6, 384)         1536      \n",
      "_________________________________________________________________\n",
      "conv2d_3 (Conv2D)            (None, 4, 4, 384)         1327488   \n",
      "_________________________________________________________________\n",
      "batch_normalization_3 (Batch (None, 4, 4, 384)         1536      \n",
      "_________________________________________________________________\n",
      "conv2d_4 (Conv2D)            (None, 2, 2, 256)         884992    \n",
      "_________________________________________________________________\n",
      "max_pooling2d_2 (MaxPooling2 (None, 1, 1, 256)         0         \n",
      "_________________________________________________________________\n",
      "batch_normalization_4 (Batch (None, 1, 1, 256)         1024      \n",
      "_________________________________________________________________\n",
      "flatten (Flatten)            (None, 256)               0         \n",
      "_________________________________________________________________\n",
      "dense (Dense)                (None, 4096)              1052672   \n",
      "_________________________________________________________________\n",
      "dropout (Dropout)            (None, 4096)              0         \n",
      "_________________________________________________________________\n",
      "batch_normalization_5 (Batch (None, 4096)              16384     \n",
      "_________________________________________________________________\n",
      "dense_1 (Dense)              (None, 4096)              16781312  \n",
      "_________________________________________________________________\n",
      "dropout_1 (Dropout)          (None, 4096)              0         \n",
      "_________________________________________________________________\n",
      "batch_normalization_6 (Batch (None, 4096)              16384     \n",
      "_________________________________________________________________\n",
      "dense_2 (Dense)              (None, 1000)              4097000   \n",
      "_________________________________________________________________\n",
      "dropout_2 (Dropout)          (None, 1000)              0         \n",
      "_________________________________________________________________\n",
      "batch_normalization_7 (Batch (None, 1000)              4000      \n",
      "_________________________________________________________________\n",
      "dense_3 (Dense)              (None, 4)                 4004      \n",
      "=================================================================\n",
      "Total params: 28,083,756\n",
      "Trainable params: 28,062,620\n",
      "Non-trainable params: 21,136\n",
      "_________________________________________________________________\n"
     ]
    }
   ],
   "source": [
    "model.summary()"
   ]
  },
  {
   "cell_type": "code",
   "execution_count": 16,
   "metadata": {},
   "outputs": [],
   "source": [
    "# Compile the model\n",
    "model.compile(optimizer=optimizers.SGD(lr=0.001, momentum=0.9, decay=0.005),\n",
    "                   loss='categorical_crossentropy',\n",
    "                   metrics=['accuracy'])"
   ]
  },
  {
   "cell_type": "markdown",
   "metadata": {},
   "source": [
    "### Fitting data to CNN Model\n",
    "* Batch Size - 32\n",
    "* Epochs - 25\n",
    "* Step size - 79"
   ]
  },
  {
   "cell_type": "code",
   "execution_count": 17,
   "metadata": {},
   "outputs": [
    {
     "name": "stdout",
     "output_type": "stream",
     "text": [
      "Epoch 1/25\n",
      "79/79 [==============================] - 153s 2s/step - loss: 1.3906 - accuracy: 0.4945 - val_loss: 1.5413 - val_accuracy: 0.4688\n",
      "Epoch 2/25\n",
      "79/79 [==============================] - 143s 2s/step - loss: 1.1160 - accuracy: 0.5990 - val_loss: 1.0946 - val_accuracy: 0.5382\n",
      "Epoch 3/25\n",
      "79/79 [==============================] - 142s 2s/step - loss: 1.0133 - accuracy: 0.6250 - val_loss: 0.8574 - val_accuracy: 0.6285\n",
      "Epoch 4/25\n",
      "79/79 [==============================] - 139s 2s/step - loss: 0.9458 - accuracy: 0.6562 - val_loss: 0.7219 - val_accuracy: 0.7257\n",
      "Epoch 5/25\n",
      "79/79 [==============================] - 145s 2s/step - loss: 0.8943 - accuracy: 0.6833 - val_loss: 0.6447 - val_accuracy: 0.7500\n",
      "Epoch 6/25\n",
      "79/79 [==============================] - 138s 2s/step - loss: 0.8801 - accuracy: 0.6825 - val_loss: 0.5881 - val_accuracy: 0.7361\n",
      "Epoch 7/25\n",
      "79/79 [==============================] - 137s 2s/step - loss: 0.8380 - accuracy: 0.6841 - val_loss: 0.5540 - val_accuracy: 0.7951\n",
      "Epoch 8/25\n",
      "79/79 [==============================] - 136s 2s/step - loss: 0.7911 - accuracy: 0.7149 - val_loss: 0.5232 - val_accuracy: 0.7778\n",
      "Epoch 9/25\n",
      "79/79 [==============================] - 135s 2s/step - loss: 0.8319 - accuracy: 0.7085 - val_loss: 0.5345 - val_accuracy: 0.7812\n",
      "Epoch 10/25\n",
      "79/79 [==============================] - 142s 2s/step - loss: 0.7688 - accuracy: 0.7113 - val_loss: 0.5271 - val_accuracy: 0.7708\n",
      "Epoch 11/25\n",
      "79/79 [==============================] - 139s 2s/step - loss: 0.7576 - accuracy: 0.7109 - val_loss: 0.5331 - val_accuracy: 0.7812\n",
      "Epoch 12/25\n",
      "79/79 [==============================] - 139s 2s/step - loss: 0.7282 - accuracy: 0.7344 - val_loss: 0.4995 - val_accuracy: 0.7951\n",
      "Epoch 13/25\n",
      "79/79 [==============================] - 139s 2s/step - loss: 0.7227 - accuracy: 0.7276 - val_loss: 0.4679 - val_accuracy: 0.8125\n",
      "Epoch 14/25\n",
      "79/79 [==============================] - 139s 2s/step - loss: 0.6693 - accuracy: 0.7520 - val_loss: 0.4239 - val_accuracy: 0.8264\n",
      "Epoch 15/25\n",
      "79/79 [==============================] - 139s 2s/step - loss: 0.6514 - accuracy: 0.7656 - val_loss: 0.3769 - val_accuracy: 0.8542\n",
      "Epoch 16/25\n",
      "79/79 [==============================] - 139s 2s/step - loss: 0.6727 - accuracy: 0.7528 - val_loss: 0.3962 - val_accuracy: 0.8403\n",
      "Epoch 17/25\n",
      "79/79 [==============================] - 139s 2s/step - loss: 0.6311 - accuracy: 0.7596 - val_loss: 0.3539 - val_accuracy: 0.8681\n",
      "Epoch 18/25\n",
      "79/79 [==============================] - 139s 2s/step - loss: 0.6354 - accuracy: 0.7656 - val_loss: 0.3627 - val_accuracy: 0.8715\n",
      "Epoch 19/25\n",
      "79/79 [==============================] - 141s 2s/step - loss: 0.5929 - accuracy: 0.7891 - val_loss: 0.3219 - val_accuracy: 0.8889\n",
      "Epoch 20/25\n",
      "79/79 [==============================] - 140s 2s/step - loss: 0.6049 - accuracy: 0.7792 - val_loss: 0.3407 - val_accuracy: 0.8681\n",
      "Epoch 21/25\n",
      "79/79 [==============================] - 139s 2s/step - loss: 0.5941 - accuracy: 0.7875 - val_loss: 0.3753 - val_accuracy: 0.8472\n",
      "Epoch 22/25\n",
      "79/79 [==============================] - 140s 2s/step - loss: 0.5562 - accuracy: 0.7983 - val_loss: 0.3393 - val_accuracy: 0.8819\n",
      "Epoch 23/25\n",
      "79/79 [==============================] - 140s 2s/step - loss: 0.5575 - accuracy: 0.7991 - val_loss: 0.2889 - val_accuracy: 0.8889\n",
      "Epoch 24/25\n",
      "79/79 [==============================] - 138s 2s/step - loss: 0.5395 - accuracy: 0.8079 - val_loss: 0.3217 - val_accuracy: 0.8750\n",
      "Epoch 25/25\n",
      "79/79 [==============================] - 138s 2s/step - loss: 0.5199 - accuracy: 0.8139 - val_loss: 0.3030 - val_accuracy: 0.8854\n"
     ]
    }
   ],
   "source": [
    "history = model.fit(training_set,\n",
    "                                   steps_per_epoch=training_set.samples//batch_size,\n",
    "                                   validation_data=valid_set,\n",
    "                                   epochs=25,\n",
    "                                   validation_steps=valid_set.samples//batch_size)"
   ]
  },
  {
   "cell_type": "code",
   "execution_count": 18,
   "metadata": {},
   "outputs": [],
   "source": [
    "# Save the model \n",
    "filepath=\"model-cnn.hdf5\"\n",
    "model.save(filepath)"
   ]
  },
  {
   "cell_type": "markdown",
   "metadata": {},
   "source": [
    "### Evaluating the Model"
   ]
  },
  {
   "cell_type": "code",
   "execution_count": 19,
   "metadata": {},
   "outputs": [],
   "source": [
    "#plotting training values\n",
    "import matplotlib.pyplot as plt\n",
    "import seaborn as sns\n",
    "sns.set()\n",
    "\n",
    "acc = history.history['accuracy']\n",
    "val_acc = history.history['val_accuracy']\n",
    "loss = history.history['loss']\n",
    "val_loss = history.history['val_loss']\n",
    "epochs = range(1, len(loss) + 1)"
   ]
  },
  {
   "cell_type": "code",
   "execution_count": 20,
   "metadata": {},
   "outputs": [
    {
     "data": {
      "text/plain": [
       "<matplotlib.legend.Legend at 0x7f2652160f10>"
      ]
     },
     "execution_count": 20,
     "metadata": {},
     "output_type": "execute_result"
    },
    {
     "data": {
      "image/png": "[encoded data removed]",
      "text/plain": [
       "<Figure size 432x288 with 1 Axes>"
      ]
     },
     "metadata": {},
     "output_type": "display_data"
    }
   ],
   "source": [
    "#accuracy plot\n",
    "plt.plot(epochs, acc, color='green', label='Training Accuracy')\n",
    "plt.plot(epochs, val_acc, color='blue', label='Validation Accuracy')\n",
    "plt.title('Training and Validation Accuracy')\n",
    "plt.ylabel('Accuracy')\n",
    "plt.xlabel('Epoch')\n",
    "plt.legend(['Train', 'Test'], loc='upper left')"
   ]
  },
  {
   "cell_type": "code",
   "execution_count": 21,
   "metadata": {},
   "outputs": [
    {
     "data": {
      "text/plain": [
       "<matplotlib.legend.Legend at 0x7f26520ca610>"
      ]
     },
     "execution_count": 21,
     "metadata": {},
     "output_type": "execute_result"
    },
    {
     "data": {
      "image/png": "[encoded data removed]",
      "text/plain": [
       "<Figure size 432x288 with 1 Axes>"
      ]
     },
     "metadata": {},
     "output_type": "display_data"
    }
   ],
   "source": [
    "#loss plot\n",
    "plt.plot(epochs, loss, color='pink', label='Training Loss')\n",
    "plt.plot(epochs, val_loss, color='red', label='Validation Loss')\n",
    "plt.title('Training and Validation Loss')\n",
    "plt.xlabel('Epochs')\n",
    "plt.ylabel('Loss')\n",
    "plt.legend()"
   ]
  },
  {
   "cell_type": "markdown",
   "metadata": {},
   "source": [
    "## Evaluating Test Set"
   ]
  },
  {
   "cell_type": "code",
   "execution_count": 29,
   "metadata": {},
   "outputs": [
    {
     "name": "stdout",
     "output_type": "stream",
     "text": [
      "9/9 [==============================] - 2s 227ms/step - loss: 0.3378 - accuracy: 0.8627\n"
     ]
    }
   ],
   "source": [
    "results = model.evaluate(test_set, steps=test_set.samples//batch_size)"
   ]
  },
  {
   "cell_type": "code",
   "execution_count": 33,
   "metadata": {},
   "outputs": [
    {
     "name": "stdout",
     "output_type": "stream",
     "text": [
      "Accuracy = 86.267608\n"
     ]
    }
   ],
   "source": [
    "print(\"Accuracy = {:2f}\".format(results[1]*100))"
   ]
  },
  {
   "cell_type": "code",
   "execution_count": null,
   "metadata": {},
   "outputs": [],
   "source": []
  }
 ],
 "metadata": {
  "kernelspec": {
   "display_name": "Python 3",
   "language": "python",
   "name": "python3"
  },
  "language_info": {
   "codemirror_mode": {
    "name": "ipython",
    "version": 3
   },
   "file_extension": ".py",
   "mimetype": "text/x-python",
   "name": "python",
   "nbconvert_exporter": "python",
   "pygments_lexer": "ipython3",
   "version": "3.8.3"
  }
 },
 "nbformat": 4,
 "nbformat_minor": 4
}
